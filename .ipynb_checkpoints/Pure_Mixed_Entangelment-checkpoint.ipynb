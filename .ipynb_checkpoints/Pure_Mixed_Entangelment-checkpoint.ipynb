{
 "cells": [
  {
   "cell_type": "code",
   "execution_count": 3,
   "id": "8c6b6c31-3d49-4f34-b6b5-1575b00be149",
   "metadata": {},
   "outputs": [
    {
     "ename": "SyntaxError",
     "evalue": "invalid character '†' (U+2020) (2736383335.py, line 6)",
     "output_type": "error",
     "traceback": [
      "\u001b[0;36m  Cell \u001b[0;32mIn[3], line 6\u001b[0;36m\u001b[0m\n\u001b[0;31m    The **Hermitian adjoint** (also called the **conjugate transpose**) of a matrix or an operator is an essential concept in linear algebra and quantum mechanics. It is denoted by a **dagger (†)** symbol.\u001b[0m\n\u001b[0m                                                                                                                                                                                                 ^\u001b[0m\n\u001b[0;31mSyntaxError\u001b[0m\u001b[0;31m:\u001b[0m invalid character '†' (U+2020)\n"
     ]
    }
   ],
   "source": [
    "# What is pure state: (Hermitian adjoint or Conjugate Transpose)\n",
    "# complex conjugate: a+ib -----> a-ib\n",
    "\n",
    "# Hermitian Adjoint (Conjugate Transpose)\n",
    "\n",
    "The **Hermitian adjoint** (also called the **conjugate transpose**) of a matrix or an operator is an essential concept in linear algebra and quantum mechanics. It is denoted by a **dagger (†)** symbol.\n",
    "\n",
    "## Definition\n",
    "For a given matrix A, its **Hermitian adjoint**, denoted as A†, is obtained by:\n",
    "1. **Taking the complex conjugate** of each element.\n",
    "2. **Transposing** the matrix (i.e., swapping rows and columns).\n",
    "\n",
    "Mathematically,\n",
    "\n",
    "(A†)ij = Ȃji\n",
    "\n",
    "where Ȃji represents the complex conjugate of the element at position (j, i).\n",
    "\n",
    "## Examples\n",
    "\n",
    "### Example 1: Real-Valued Matrix\n",
    "If A has only real numbers, the Hermitian adjoint is just the **transpose**.\n",
    "\n",
    "A =\n",
    "[1 & 2\n",
    " 3 & 4]\n",
    "\n",
    "A† =\n",
    "[1 & 3\n",
    " 2 & 4]\n",
    "\n",
    "### Example 2: Complex-Valued Matrix\n",
    "For a matrix with complex numbers:\n",
    "\n",
    "A =\n",
    "[1 + i & 2 - i\n",
    " 3 & 4 + 2i]\n",
    "\n",
    "1. **Take the complex conjugate**:\n",
    "\n",
    "Ȃ =\n",
    "[1 - i & 2 + i\n",
    " 3 & 4 - 2i]\n",
    "\n",
    "2. **Transpose**:\n",
    "\n",
    "A† =\n",
    "[1 - i & 3\n",
    " 2 + i & 4 - 2i]\n",
    "\n",
    "## Properties of Hermitian Adjoint\n",
    "1. **Double adjoint property**:\n",
    "\n",
    "(A†)† = A\n",
    "\n",
    "2. **Adjoint of a sum**:\n",
    "\n",
    "(A + B)† = A† + B†\n",
    "\n",
    "3. **Adjoint of a product**:\n",
    "\n",
    "(AB)† = B†A†\n",
    "\n",
    "4. **Adjoint of a scalar multiplication**:\n",
    "\n",
    "(λA)† = λ̅A†, for any scalar λ.\n",
    "\n",
    "## Special Case: Hermitian Matrices\n",
    "A matrix H is called **Hermitian** if:\n",
    "\n",
    "H† = H\n",
    "\n",
    "For example:\n",
    "\n",
    "H =\n",
    "[2 & i\n",
    " -i & 3]\n",
    "\n",
    "Since H† = H, this matrix is **Hermitian**.\n",
    "\n",
    "\n",
    "# Inner Product and Trace Relation\n",
    "\n",
    "The expression ⟨τ | σ⟩ = tr(τ†σ) represents a fundamental concept in linear algebra and quantum mechanics, relating the inner product of matrices (or operators) to the trace operation.\n",
    "\n",
    "## Understanding the Notation\n",
    "- **⟨τ | σ⟩**: This denotes the **Hilbert-Schmidt inner product** between two operators or matrices τ and σ. It generalizes the dot product to the space of matrices.\n",
    "- **tr(τ†σ)**: The **trace** of the product of τ's **Hermitian adjoint (τ†)** and σ. The trace of a matrix is the sum of its diagonal elements.\n",
    "- **Hermitian adjoint (τ†)**: Also known as the **conjugate transpose**, it is obtained by taking the complex conjugate of each element of τ and then transposing the matrix.\n",
    "\n",
    "## Formula\n",
    "The relation is defined as:\n",
    "\n",
    "⟨τ | σ⟩ = tr(τ†σ)\n",
    "\n",
    "### How It Works\n",
    "1. **Hermitian Adjoint**: Compute τ† by taking the complex conjugate and transposing τ.\n",
    "2. **Matrix Multiplication**: Multiply τ† by σ.\n",
    "3. **Trace Operation**: Sum the diagonal elements of the resulting matrix.\n",
    "\n",
    "## Example\n",
    "Let τ and σ be 2x2 matrices:\n",
    "\n",
    "τ =\n",
    "[1 + i, 2\n",
    " 3, 4 - i]\n",
    "\n",
    "σ =\n",
    "[0, 1 - i\n",
    " 2 + i, 3]\n",
    "\n",
    "1. Compute τ†:\n",
    "\n",
    "τ† =\n",
    "[1 - i, 3\n",
    " 2, 4 + i]\n",
    "\n",
    "2. Multiply τ† by σ:\n",
    "\n",
    "τ†σ =\n",
    "[6 + 3i, 9 - 2i\n",
    " 7 + 6i, 14 + i]\n",
    "\n",
    "3. Calculate the trace:\n",
    "\n",
    "tr(τ†σ) = (6 + 3i) + (14 + i) = 20 + 4i\n",
    "\n",
    "Therefore:\n",
    "\n",
    "⟨τ | σ⟩ = 20 + 4i\n",
    "\n",
    "---\n",
    "\n",
    "This formula is widely used in quantum mechanics, where operators represent physical observables and the trace operation is essential in computing probabilities and expectations. If you need more detailed examples or further explanations, feel free to ask!\n",
    "\n"
   ]
  },
  {
   "cell_type": "code",
   "execution_count": 5,
   "id": "73f9a1be-96a4-4093-9464-985b4c14ab29",
   "metadata": {},
   "outputs": [
    {
     "data": {
      "text/latex": [
       "$\\displaystyle \\langle \\mathbf{u}, \\mathbf{v} \\rangle = \\sum_{i=1}^{n} u_i v_i$"
      ],
      "text/plain": [
       "<IPython.core.display.Math object>"
      ]
     },
     "metadata": {},
     "output_type": "display_data"
    },
    {
     "data": {
      "text/latex": [
       "$\\displaystyle \\langle \\mathbf{u}, \\mathbf{v} \\rangle = \\mathbf{u}^\\dagger \\mathbf{v}$"
      ],
      "text/plain": [
       "<IPython.core.display.Math object>"
      ]
     },
     "metadata": {},
     "output_type": "display_data"
    }
   ],
   "source": [
    "# Inner product as a summation:\n",
    "inner_product_sum = r\"\\langle \\mathbf{u}, \\mathbf{v} \\rangle = \\sum_{i=1}^{n} u_i v_i\"\n",
    "\n",
    "# Inner product using conjugate transpose:\n",
    "inner_product_conjugate_transpose = r\"\\langle \\mathbf{u}, \\mathbf{v} \\rangle = \\mathbf{u}^\\dagger \\mathbf{v}\"\n",
    "\n",
    "# To display these in a Jupyter notebook using LaTeX rendering:\n",
    "from IPython.display import display, Math\n",
    "display(Math(inner_product_sum))\n",
    "display(Math(inner_product_conjugate_transpose)) # u degger= u conjugate trasnspose <A,B>=tr(A\\degger.B)\n",
    "\n",
    "\n"
   ]
  },
  {
   "cell_type": "code",
   "execution_count": 7,
   "id": "964c08f8-f4b6-4a65-82bd-3a0e8e4a9413",
   "metadata": {},
   "outputs": [
    {
     "data": {
      "text/latex": [
       "$\\displaystyle \\text{Let } \\mathbf{a} = (a_1, a_2, \\dots, a_n) \\text{ and } \\mathbf{b} = (b_1, b_2, \\dots, b_n)$"
      ],
      "text/plain": [
       "<IPython.core.display.Math object>"
      ]
     },
     "metadata": {},
     "output_type": "display_data"
    },
    {
     "data": {
      "text/latex": [
       "$\\displaystyle \\text{The inner product } \\langle \\mathbf{a}, \\mathbf{b} \\rangle \\text{ is defined as: } \\langle \\mathbf{a}, \\mathbf{b} \\rangle = \\sum_{i=1}^{n} \\overline{a_i} b_i$"
      ],
      "text/plain": [
       "<IPython.core.display.Math object>"
      ]
     },
     "metadata": {},
     "output_type": "display_data"
    },
    {
     "data": {
      "text/latex": [
       "$\\displaystyle \\text{Similarly, the inner product } \\langle \\mathbf{b}, \\mathbf{a} \\rangle \\text{ is: } \\langle \\mathbf{b}, \\mathbf{a} \\rangle = \\sum_{i=1}^{n} \\overline{b_i} a_i$"
      ],
      "text/plain": [
       "<IPython.core.display.Math object>"
      ]
     },
     "metadata": {},
     "output_type": "display_data"
    },
    {
     "data": {
      "text/latex": [
       "$\\displaystyle \\text{Now, if we take the complex conjugate of } \\langle \\mathbf{b}, \\mathbf{a} \\rangle, \\text{ we get: } \\overline{\\langle \\mathbf{b}, \\mathbf{a} \\rangle} = \\sum_{i=1}^{n} \\overline{\\overline{b_i}} \\overline{a_i} = \\sum_{i=1}^{n} b_i \\overline{a_i}$"
      ],
      "text/plain": [
       "<IPython.core.display.Math object>"
      ]
     },
     "metadata": {},
     "output_type": "display_data"
    },
    {
     "data": {
      "text/latex": [
       "$\\displaystyle \\text{This shows that: } \\langle \\mathbf{a}, \\mathbf{b} \\rangle = \\overline{\\langle \\mathbf{b}, \\mathbf{a} \\rangle}$"
      ],
      "text/plain": [
       "<IPython.core.display.Math object>"
      ]
     },
     "metadata": {},
     "output_type": "display_data"
    }
   ],
   "source": [
    "# Importing the required libraries\n",
    "from sympy import symbols, summation, conjugate\n",
    "from sympy.abc import i\n",
    "from IPython.display import display, Math\n",
    "\n",
    "# Define the components of vectors a and b\n",
    "a_i, b_i = symbols('a_i b_i', complex=True)\n",
    "\n",
    "# Define the inner product ⟨a, b⟩ = sum of (conjugate of a_i * b_i)\n",
    "inner_product_ab = summation(conjugate(a_i) * b_i, (i, 1, 'n'))\n",
    "\n",
    "# Define the inner product ⟨b, a⟩ = sum of (conjugate of b_i * a_i)\n",
    "inner_product_ba = summation(conjugate(b_i) * a_i, (i, 1, 'n'))\n",
    "\n",
    "# Take the complex conjugate of ⟨b, a⟩\n",
    "conjugate_inner_product_ba = conjugate(inner_product_ba)\n",
    "\n",
    "# Display the results\n",
    "display(Math(r\"\\text{Let } \\mathbf{a} = (a_1, a_2, \\dots, a_n) \\text{ and } \\mathbf{b} = (b_1, b_2, \\dots, b_n)\"))\n",
    "display(Math(r\"\\text{The inner product } \\langle \\mathbf{a}, \\mathbf{b} \\rangle \\text{ is defined as: } \\langle \\mathbf{a}, \\mathbf{b} \\rangle = \\sum_{i=1}^{n} \\overline{a_i} b_i\"))\n",
    "display(Math(r\"\\text{Similarly, the inner product } \\langle \\mathbf{b}, \\mathbf{a} \\rangle \\text{ is: } \\langle \\mathbf{b}, \\mathbf{a} \\rangle = \\sum_{i=1}^{n} \\overline{b_i} a_i\"))\n",
    "display(Math(r\"\\text{Now, if we take the complex conjugate of } \\langle \\mathbf{b}, \\mathbf{a} \\rangle, \\text{ we get: } \\overline{\\langle \\mathbf{b}, \\mathbf{a} \\rangle} = \\sum_{i=1}^{n} \\overline{\\overline{b_i}} \\overline{a_i} = \\sum_{i=1}^{n} b_i \\overline{a_i}\"))\n",
    "display(Math(r\"\\text{This shows that: } \\langle \\mathbf{a}, \\mathbf{b} \\rangle = \\overline{\\langle \\mathbf{b}, \\mathbf{a} \\rangle}\"))\n",
    "\n"
   ]
  },
  {
   "cell_type": "code",
   "execution_count": 11,
   "id": "48a312da-fc0d-480a-ac40-ad717be82f97",
   "metadata": {},
   "outputs": [
    {
     "data": {
      "text/latex": [
       "$\\displaystyle \\text{The set of linear operators acting on hilbert space } \\mathcal{H} \\text{ is denoted by } B(\\mathcal{H}) \\text{ and forms a linear space under the usual operations of addition and scalar multiplication. } $"
      ],
      "text/plain": [
       "<IPython.core.display.Math object>"
      ]
     },
     "metadata": {},
     "output_type": "display_data"
    }
   ],
   "source": [
    "# Display the statement in LaTeX\n",
    "display(Math(r\"\\text{The set of linear operators acting on hilbert space } \\mathcal{H} \\text{ is denoted by } B(\\mathcal{H}) \\text{ and forms a linear space under the usual operations of addition and scalar multiplication. } \"))\n"
   ]
  },
  {
   "cell_type": "code",
   "execution_count": 14,
   "id": "a462450c-d70a-4250-bb92-82f51d46a387",
   "metadata": {},
   "outputs": [
    {
     "data": {
      "text/latex": [
       "$\\displaystyle \\text{1. The set of matrices of size } m \\times n \\text{ forms a vector space under the usual operations of addition and scalar multiplication.}$"
      ],
      "text/plain": [
       "<IPython.core.display.Math object>"
      ]
     },
     "metadata": {},
     "output_type": "display_data"
    },
    {
     "data": {
      "text/latex": [
       "$\\displaystyle \\text{2. The identity matrix, denoted by } I_n, \\text{ is the matrix with ones on the diagonal and zeros elsewhere. }$"
      ],
      "text/plain": [
       "<IPython.core.display.Math object>"
      ]
     },
     "metadata": {},
     "output_type": "display_data"
    },
    {
     "data": {
      "text/latex": [
       "$\\displaystyle \\text{3. The transpose of a matrix } A, \\text{ denoted by } A^T, \\text{ is obtained by swapping the rows and columns of } A.$"
      ],
      "text/plain": [
       "<IPython.core.display.Math object>"
      ]
     },
     "metadata": {},
     "output_type": "display_data"
    },
    {
     "data": {
      "text/latex": [
       "$\\displaystyle \\text{4. The conjugate transpose of a matrix } A, \\text{ denoted by } A^\\dagger, \\text{ is obtained by transposing } A \\text{ and taking the complex conjugate of each entry.}$"
      ],
      "text/plain": [
       "<IPython.core.display.Math object>"
      ]
     },
     "metadata": {},
     "output_type": "display_data"
    },
    {
     "data": {
      "text/latex": [
       "$\\displaystyle \\text{5. A matrix is symmetric if } A = A^T, \\text{ and it is Hermitian if } A = A^\\dagger.$"
      ],
      "text/plain": [
       "<IPython.core.display.Math object>"
      ]
     },
     "metadata": {},
     "output_type": "display_data"
    },
    {
     "data": {
      "text/latex": [
       "$\\displaystyle \\text{6. The determinant of a square matrix } A \\text{ is a scalar value that can be computed from its elements and determines whether the matrix is invertible.}$"
      ],
      "text/plain": [
       "<IPython.core.display.Math object>"
      ]
     },
     "metadata": {},
     "output_type": "display_data"
    },
    {
     "data": {
      "text/latex": [
       "$\\displaystyle \\text{7. The inverse of a square matrix } A, \\text{ denoted by } A^{-1}, \\text{ exists if and only if the determinant of } A \\text{ is non-zero.}$"
      ],
      "text/plain": [
       "<IPython.core.display.Math object>"
      ]
     },
     "metadata": {},
     "output_type": "display_data"
    },
    {
     "data": {
      "text/latex": [
       "$\\displaystyle \\text{8. The trace of a matrix } A, \\text{ denoted by } \\text{Tr}(A), \\text{ is the sum of the diagonal elements of } A.$"
      ],
      "text/plain": [
       "<IPython.core.display.Math object>"
      ]
     },
     "metadata": {},
     "output_type": "display_data"
    },
    {
     "data": {
      "text/latex": [
       "$\\displaystyle \\text{9. The rank of a matrix } A, \\text{ denoted by } \\text{rank}(A), \\text{ is the dimension of the column space (or row space) of } A.$"
      ],
      "text/plain": [
       "<IPython.core.display.Math object>"
      ]
     },
     "metadata": {},
     "output_type": "display_data"
    },
    {
     "data": {
      "text/latex": [
       "$\\displaystyle \\text{10. A matrix is orthogonal if its rows (or columns) form an orthonormal set, i.e., } A^T A = I.$"
      ],
      "text/plain": [
       "<IPython.core.display.Math object>"
      ]
     },
     "metadata": {},
     "output_type": "display_data"
    },
    {
     "data": {
      "text/latex": [
       "$\\displaystyle \\text{11. The Frobenius norm of a matrix } A \\text{ is defined as the square root of the sum of the absolute squares of its entries.}$"
      ],
      "text/plain": [
       "<IPython.core.display.Math object>"
      ]
     },
     "metadata": {},
     "output_type": "display_data"
    },
    {
     "data": {
      "text/latex": [
       "$\\displaystyle \\text{12. A matrix is diagonal if all its off-diagonal entries are zero.}$"
      ],
      "text/plain": [
       "<IPython.core.display.Math object>"
      ]
     },
     "metadata": {},
     "output_type": "display_data"
    },
    {
     "data": {
      "text/latex": [
       "$\\displaystyle \\text{13. A matrix is upper triangular if all the entries below the diagonal are zero.}$"
      ],
      "text/plain": [
       "<IPython.core.display.Math object>"
      ]
     },
     "metadata": {},
     "output_type": "display_data"
    },
    {
     "data": {
      "text/latex": [
       "$\\displaystyle \\text{14. A matrix is lower triangular if all the entries above the diagonal are zero.}$"
      ],
      "text/plain": [
       "<IPython.core.display.Math object>"
      ]
     },
     "metadata": {},
     "output_type": "display_data"
    },
    {
     "data": {
      "text/latex": [
       "$\\displaystyle \\text{15. A matrix is idempotent if } A^2 = A, \\text{ and it is nilpotent if there exists some integer } k \\text{ such that } A^k = 0.$"
      ],
      "text/plain": [
       "<IPython.core.display.Math object>"
      ]
     },
     "metadata": {},
     "output_type": "display_data"
    },
    {
     "data": {
      "text/latex": [
       "$\\displaystyle \\text{16. The inverse of a product of matrices satisfies: } (AB)^{-1} = B^{-1} A^{-1}, \\text{ provided that } A \\text{ and } B \\text{ are invertible.}$"
      ],
      "text/plain": [
       "<IPython.core.display.Math object>"
      ]
     },
     "metadata": {},
     "output_type": "display_data"
    },
    {
     "data": {
      "text/latex": [
       "$\\displaystyle \\text{17. The distributive property: } A(B + C) = AB + AC \\text{ and } (A + B)C = AC + BC.$"
      ],
      "text/plain": [
       "<IPython.core.display.Math object>"
      ]
     },
     "metadata": {},
     "output_type": "display_data"
    },
    {
     "data": {
      "text/latex": [
       "$\\displaystyle \\text{18. The associative property: } (AB)C = A(BC).$"
      ],
      "text/plain": [
       "<IPython.core.display.Math object>"
      ]
     },
     "metadata": {},
     "output_type": "display_data"
    },
    {
     "data": {
      "text/latex": [
       "$\\displaystyle \\text{19. The scalar multiplication property: } (cA)B = c(AB) = A(cB), \\text{ for any scalar } c.$"
      ],
      "text/plain": [
       "<IPython.core.display.Math object>"
      ]
     },
     "metadata": {},
     "output_type": "display_data"
    },
    {
     "data": {
      "text/latex": [
       "$\\displaystyle \\text{20. The commutative property of matrix addition: } A + B = B + A.$"
      ],
      "text/plain": [
       "<IPython.core.display.Math object>"
      ]
     },
     "metadata": {},
     "output_type": "display_data"
    },
    {
     "data": {
      "text/latex": [
       "$\\displaystyle \\text{21. The inverse of a scalar times a matrix is } (cA)^{-1} = \\frac{1}{c} A^{-1}, \\text{ provided that } c \\neq 0.$"
      ],
      "text/plain": [
       "<IPython.core.display.Math object>"
      ]
     },
     "metadata": {},
     "output_type": "display_data"
    },
    {
     "data": {
      "text/latex": [
       "$\\displaystyle \\text{22. The properties of matrix trace: } \\text{Tr}(A + B) = \\text{Tr}(A) + \\text{Tr}(B), \\text{Tr}(cA) = c \\text{Tr}(A), \\text{Tr}(AB) = \\text{Tr}(BA).$"
      ],
      "text/plain": [
       "<IPython.core.display.Math object>"
      ]
     },
     "metadata": {},
     "output_type": "display_data"
    },
    {
     "data": {
      "text/latex": [
       "$\\displaystyle \\text{23. Linearity: } \\text{Tr}(A + B) = \\text{Tr}(A) + \\text{Tr}(B), \\quad \\text{Tr}(cA) = c \\text{Tr}(A), \\text{ for any scalar } c.$"
      ],
      "text/plain": [
       "<IPython.core.display.Math object>"
      ]
     },
     "metadata": {},
     "output_type": "display_data"
    },
    {
     "data": {
      "text/latex": [
       "$\\displaystyle \\text{24. Cyclic Property: } \\text{Tr}(AB) = \\text{Tr}(BA), \\quad \\text{Tr}(ABC) = \\text{Tr}(BCA) = \\text{Tr}(CAB).$"
      ],
      "text/plain": [
       "<IPython.core.display.Math object>"
      ]
     },
     "metadata": {},
     "output_type": "display_data"
    },
    {
     "data": {
      "text/latex": [
       "$\\displaystyle \\text{25. Invariance under Similarity Transformations: } \\text{If } B = P^{-1}AP, \\text{ then } \\text{Tr}(A) = \\text{Tr}(B).$"
      ],
      "text/plain": [
       "<IPython.core.display.Math object>"
      ]
     },
     "metadata": {},
     "output_type": "display_data"
    },
    {
     "data": {
      "text/latex": [
       "$\\displaystyle \\text{26. Trace of a Product of Matrices: } \\text{Tr}(A \\cdot B) = \\sum_{i,j} A_{ij} B_{ji}, \\text{ where } A \\text{ and } B \\text{ are square matrices.}$"
      ],
      "text/plain": [
       "<IPython.core.display.Math object>"
      ]
     },
     "metadata": {},
     "output_type": "display_data"
    },
    {
     "data": {
      "text/latex": [
       "$\\displaystyle \\text{27. Trace of a Diagonal Matrix: } \\text{Tr}(D) = \\sum_{i} D_{ii}, \\text{ where } D \\text{ is a diagonal matrix.}$"
      ],
      "text/plain": [
       "<IPython.core.display.Math object>"
      ]
     },
     "metadata": {},
     "output_type": "display_data"
    },
    {
     "data": {
      "text/latex": [
       "$\\displaystyle \\text{28. Trace of a Scalar Multiple: } \\text{Tr}(cA) = c \\text{Tr}(A), \\text{ for any scalar } c.$"
      ],
      "text/plain": [
       "<IPython.core.display.Math object>"
      ]
     },
     "metadata": {},
     "output_type": "display_data"
    },
    {
     "data": {
      "text/latex": [
       "$\\displaystyle \\text{29. Trace of the Identity Matrix: } \\text{Tr}(I_n) = n, \\text{ where } I_n \\text{ is the identity matrix of size } n \\times n.$"
      ],
      "text/plain": [
       "<IPython.core.display.Math object>"
      ]
     },
     "metadata": {},
     "output_type": "display_data"
    },
    {
     "data": {
      "text/latex": [
       "$\\displaystyle \\text{30. The Trace of a Matrix Product is the Same as the Sum of Products of Diagonal Entries: } \\text{Tr}(A \\cdot B) = \\sum_{i=1}^{n} A_{ii} B_{ii}, \\text{ for square matrices } A \\text{ and } B.$"
      ],
      "text/plain": [
       "<IPython.core.display.Math object>"
      ]
     },
     "metadata": {},
     "output_type": "display_data"
    },
    {
     "data": {
      "text/latex": [
       "$\\displaystyle \\text{31. Trace of a Matrix and its Transpose: } \\text{Tr}(A^T) = \\text{Tr}(A), \\text{ for any matrix } A.$"
      ],
      "text/plain": [
       "<IPython.core.display.Math object>"
      ]
     },
     "metadata": {},
     "output_type": "display_data"
    },
    {
     "data": {
      "text/latex": [
       "$\\displaystyle \\text{32. Trace of a Matrix with Complex Entries: } \\text{If } A \\text{ is a matrix with complex entries, then } \\text{Tr}(A) = \\sum_{i} \\overline{a_{ii}}, \\text{ where } a_{ii} \\text{ is the diagonal element.}$"
      ],
      "text/plain": [
       "<IPython.core.display.Math object>"
      ]
     },
     "metadata": {},
     "output_type": "display_data"
    }
   ],
   "source": [
    "from sympy import symbols\n",
    "from IPython.display import display, Math\n",
    "\n",
    "# Display the properties in LaTeX\n",
    "display(Math(r\"\\text{1. The set of matrices of size } m \\times n \\text{ forms a vector space under the usual operations of addition and scalar multiplication.}\"))\n",
    "\n",
    "display(Math(r\"\\text{2. The identity matrix, denoted by } I_n, \\text{ is the matrix with ones on the diagonal and zeros elsewhere. }\"))\n",
    "\n",
    "display(Math(r\"\\text{3. The transpose of a matrix } A, \\text{ denoted by } A^T, \\text{ is obtained by swapping the rows and columns of } A.\"))\n",
    "\n",
    "display(Math(r\"\\text{4. The conjugate transpose of a matrix } A, \\text{ denoted by } A^\\dagger, \\text{ is obtained by transposing } A \\text{ and taking the complex conjugate of each entry.}\"))\n",
    "\n",
    "display(Math(r\"\\text{5. A matrix is symmetric if } A = A^T, \\text{ and it is Hermitian if } A = A^\\dagger.\"))\n",
    "\n",
    "display(Math(r\"\\text{6. The determinant of a square matrix } A \\text{ is a scalar value that can be computed from its elements and determines whether the matrix is invertible.}\"))\n",
    "\n",
    "display(Math(r\"\\text{7. The inverse of a square matrix } A, \\text{ denoted by } A^{-1}, \\text{ exists if and only if the determinant of } A \\text{ is non-zero.}\"))\n",
    "\n",
    "display(Math(r\"\\text{8. The trace of a matrix } A, \\text{ denoted by } \\text{Tr}(A), \\text{ is the sum of the diagonal elements of } A.\"))\n",
    "\n",
    "display(Math(r\"\\text{9. The rank of a matrix } A, \\text{ denoted by } \\text{rank}(A), \\text{ is the dimension of the column space (or row space) of } A.\"))\n",
    "\n",
    "display(Math(r\"\\text{10. A matrix is orthogonal if its rows (or columns) form an orthonormal set, i.e., } A^T A = I.\"))\n",
    "\n",
    "display(Math(r\"\\text{11. The Frobenius norm of a matrix } A \\text{ is defined as the square root of the sum of the absolute squares of its entries.}\"))\n",
    "\n",
    "display(Math(r\"\\text{12. A matrix is diagonal if all its off-diagonal entries are zero.}\"))\n",
    "\n",
    "display(Math(r\"\\text{13. A matrix is upper triangular if all the entries below the diagonal are zero.}\"))\n",
    "\n",
    "display(Math(r\"\\text{14. A matrix is lower triangular if all the entries above the diagonal are zero.}\"))\n",
    "\n",
    "display(Math(r\"\\text{15. A matrix is idempotent if } A^2 = A, \\text{ and it is nilpotent if there exists some integer } k \\text{ such that } A^k = 0.\"))\n",
    "\n",
    "display(Math(r\"\\text{16. The inverse of a product of matrices satisfies: } (AB)^{-1} = B^{-1} A^{-1}, \\text{ provided that } A \\text{ and } B \\text{ are invertible.}\"))\n",
    "\n",
    "display(Math(r\"\\text{17. The distributive property: } A(B + C) = AB + AC \\text{ and } (A + B)C = AC + BC.\"))\n",
    "\n",
    "display(Math(r\"\\text{18. The associative property: } (AB)C = A(BC).\"))\n",
    "\n",
    "display(Math(r\"\\text{19. The scalar multiplication property: } (cA)B = c(AB) = A(cB), \\text{ for any scalar } c.\"))\n",
    "\n",
    "display(Math(r\"\\text{20. The commutative property of matrix addition: } A + B = B + A.\"))\n",
    "\n",
    "display(Math(r\"\\text{21. The inverse of a scalar times a matrix is } (cA)^{-1} = \\frac{1}{c} A^{-1}, \\text{ provided that } c \\neq 0.\"))\n",
    "\n",
    "display(Math(r\"\\text{22. The properties of matrix trace: } \\text{Tr}(A + B) = \\text{Tr}(A) + \\text{Tr}(B), \\text{Tr}(cA) = c \\text{Tr}(A), \\text{Tr}(AB) = \\text{Tr}(BA).\"))\n",
    "# Display the properties of trace in LaTeX\n",
    "display(Math(r\"\\text{23. Linearity: } \\text{Tr}(A + B) = \\text{Tr}(A) + \\text{Tr}(B), \\quad \\text{Tr}(cA) = c \\text{Tr}(A), \\text{ for any scalar } c.\"))\n",
    "\n",
    "display(Math(r\"\\text{24. Cyclic Property: } \\text{Tr}(AB) = \\text{Tr}(BA), \\quad \\text{Tr}(ABC) = \\text{Tr}(BCA) = \\text{Tr}(CAB).\"))\n",
    "\n",
    "display(Math(r\"\\text{25. Invariance under Similarity Transformations: } \\text{If } B = P^{-1}AP, \\text{ then } \\text{Tr}(A) = \\text{Tr}(B).\"))\n",
    "\n",
    "display(Math(r\"\\text{26. Trace of a Product of Matrices: } \\text{Tr}(A \\cdot B) = \\sum_{i,j} A_{ij} B_{ji}, \\text{ where } A \\text{ and } B \\text{ are square matrices.}\"))\n",
    "\n",
    "display(Math(r\"\\text{27. Trace of a Diagonal Matrix: } \\text{Tr}(D) = \\sum_{i} D_{ii}, \\text{ where } D \\text{ is a diagonal matrix.}\"))\n",
    "\n",
    "display(Math(r\"\\text{28. Trace of a Scalar Multiple: } \\text{Tr}(cA) = c \\text{Tr}(A), \\text{ for any scalar } c.\"))\n",
    "\n",
    "display(Math(r\"\\text{29. Trace of the Identity Matrix: } \\text{Tr}(I_n) = n, \\text{ where } I_n \\text{ is the identity matrix of size } n \\times n.\"))\n",
    "\n",
    "display(Math(r\"\\text{30. The Trace of a Matrix Product is the Same as the Sum of Products of Diagonal Entries: } \\text{Tr}(A \\cdot B) = \\sum_{i=1}^{n} A_{ii} B_{ii}, \\text{ for square matrices } A \\text{ and } B.\"))\n",
    "\n",
    "display(Math(r\"\\text{31. Trace of a Matrix and its Transpose: } \\text{Tr}(A^T) = \\text{Tr}(A), \\text{ for any matrix } A.\"))\n",
    "\n",
    "display(Math(r\"\\text{32. Trace of a Matrix with Complex Entries: } \\text{If } A \\text{ is a matrix with complex entries, then } \\text{Tr}(A) = \\sum_{i} \\overline{a_{ii}}, \\text{ where } a_{ii} \\text{ is the diagonal element.}\"))\n"
   ]
  },
  {
   "cell_type": "code",
   "execution_count": 16,
   "id": "7edcb7dd-b9ff-4a6d-913f-8ec8e20895dd",
   "metadata": {},
   "outputs": [
    {
     "ename": "SyntaxError",
     "evalue": "unterminated string literal (detected at line 4) (1797779765.py, line 4)",
     "output_type": "error",
     "traceback": [
      "\u001b[0;36m  Cell \u001b[0;32mIn[16], line 4\u001b[0;36m\u001b[0m\n\u001b[0;31m    In quantum mechanics, **pure states** and **mixed states** are two distinct types of quantum states that describe the system's overall state.\u001b[0m\n\u001b[0m                                                                                                                                ^\u001b[0m\n\u001b[0;31mSyntaxError\u001b[0m\u001b[0;31m:\u001b[0m unterminated string literal (detected at line 4)\n"
     ]
    }
   ],
   "source": [
    "#Pure state and mixxed state:\n",
    "### Pure and Mixed States in Quantum Computing\n",
    "\n",
    "In quantum mechanics, **pure states** and **mixed states** are two distinct types of quantum states that describe the system's overall state.\n",
    "\n",
    "#### **Pure State:** # can be describ one type of wave function:\n",
    "A **pure state** is a quantum state that can be completely described by a single vector or a wave function in quantum computing in a Hilbert space. \n",
    "It represents a system that is fully known, with no uncertainty or probabilistic mixture.\n",
    "\n",
    "The pure state exhibits interference because of the superposition of basis states.\n",
    "- **Mathematical representation**:\n",
    "  A pure state `|ψ⟩` is a unit vector in a Hilbert space, satisfying the normalization condition:\n",
    "  `⟨ψ | ψ⟩ = 1`\n",
    "  \n",
    "- **Density matrix**:\n",
    "  The density matrix `ρ` of a pure state is given by:\n",
    "  `ρ = |ψ⟩⟨ψ|`\n",
    "  For a pure state, the density matrix satisfies the property:\n",
    "  `ρ² = ρ`\n",
    "\n",
    "- **Physical interpretation**:\n",
    "  A pure state represents a state with no mixedness or uncertainty. The system is in a definite quantum state, \n",
    "and we have complete knowledge about it.\n",
    "\n",
    "- **Example**:\n",
    "  A single qubit in the pure state `|ψ⟩ = α|0⟩ + β|1⟩`, where `α` and `β` are complex numbers such that `|α|² + |β|² = 1`.\n",
    "\n",
    "#### **Mixed State:**\n",
    "A **mixed state** represents a quantum state that is a statistical mixture of different pure states.\n",
    "It describes situations where there is uncertainty about which pure state the system is in, or when the system \n",
    "is entangled with its environment. \n",
    "\n",
    "- **Mathematical representation**:\n",
    "  A mixed state is described by a density matrix `ρ`, which is a weighted sum of pure states `|ψᵢ⟩` with corresponding probabilities `pᵢ`:\n",
    "  `ρ = Σ pᵢ |ψᵢ⟩⟨ψᵢ|`\n",
    "  where `pᵢ` are the probabilities of the system being in each pure state, and `Σ pᵢ = 1`.\n",
    "\n",
    "- **Density matrix properties**:\n",
    "  For mixed states, the density matrix satisfies:\n",
    "  `ρ² ≠ ρ`\n",
    "  and typically has eigenvalues less than 1, indicating the state is not pure.\n",
    "\n",
    "- **Physical interpretation**:\n",
    "  A mixed state arises when there is a lack of knowledge about the quantum system, often due to interactions with an environment or noise. It represents situations where the system is in a probabilistic combination of pure states.\n",
    "\n",
    "- **Example**:\n",
    "  A system that has a 50% chance of being in state `|0⟩` and a 50% chance of being in state `|1⟩` can be described by the mixed state:\n",
    "  `ρ = (1/2) |0⟩⟨0| + (1/2) |1⟩⟨1|`\n",
    "  This is a mixed state because we do not know which of the two pure states `|0⟩` or `|1⟩` the system is in.\n",
    "\n",
    "---\n",
    "\n",
    "### **Key Differences Between Pure and Mixed States:**\n",
    "\n",
    "1. **Description**:\n",
    "   - Pure states are represented by a single vector in the Hilbert space.\n",
    "   - Mixed states are represented by a density matrix that is a statistical mixture of different pure states.\n",
    "\n",
    "2. **Density Matrix**:\n",
    "   - For a pure state, `ρ² = ρ`.\n",
    "   - For a mixed state, `ρ² ≠ ρ`, and it usually has eigenvalues less than 1.\n",
    "\n",
    "3. **Knowledge**:\n",
    "   - Pure states represent complete knowledge of the system's state.\n",
    "   - Mixed states represent incomplete knowledge or uncertainty about the system’s state.\n",
    "\n",
    "4. **Entanglement**:\n",
    "   - Pure states can be entangled (e.g., in a Bell state).\n",
    "   - Mixed states can result from entanglement with an environment (e.g., when a system is in contact with an external system and becomes \"mixed\").\n",
    "\n",
    "5. **Example**:\n",
    "   - A pure state example: \n",
    "     `|ψ⟩ = (1/√2)(|0⟩ + |1⟩)`\n",
    "   - A mixed state example: A 50% probability of being in either `|0⟩` or `|1⟩`, given by \n",
    "     `ρ = (1/2) |0⟩⟨0| + (1/2) |1⟩⟨1|`\n",
    "# mixed state does not have interference but pure statte has interference.\n",
    "         #p"
   ]
  },
  {
   "cell_type": "code",
   "execution_count": 17,
   "id": "2cb0675a-d204-485a-aa8a-4635cc644b8c",
   "metadata": {},
   "outputs": [
    {
     "name": "stdout",
     "output_type": "stream",
     "text": [
      "Expectation value of Z:  0.0\n"
     ]
    }
   ],
   "source": [
    "import numpy as np\n",
    "from scipy.linalg import expm\n",
    "\n",
    "# Define the basis states |0> and |1>\n",
    "ket_0 = np.array([[1], [0]])\n",
    "ket_1 = np.array([[0], [1]])\n",
    "\n",
    "# Define the mixed state density matrix rho\n",
    "rho = (1/2) * (np.outer(ket_0, ket_0.T) + np.outer(ket_1, ket_1.T))\n",
    "\n",
    "# Define the Pauli Z operator\n",
    "Z = np.array([[1, 0], [0, -1]])\n",
    "\n",
    "# Compute the expectation value <Z>\n",
    "expectation_value = np.trace(np.dot(rho, Z))\n",
    "print(\"Expectation value of Z: \", expectation_value)\n"
   ]
  },
  {
   "cell_type": "code",
   "execution_count": 19,
   "id": "947e99b7-08c8-416f-a340-246782cba7df",
   "metadata": {},
   "outputs": [
    {
     "name": "stdout",
     "output_type": "stream",
     "text": [
      "Expectation value of Z1: [[1.]]\n"
     ]
    }
   ],
   "source": [
    "# Define the Pauli Z operator\n",
    "Z = np.array([[1, 0], [0, -1]])\n",
    "\n",
    "# Define the identity operator\n",
    "I = np.eye(2)\n",
    "\n",
    "# Define the state |0> and |1>\n",
    "ket_0 = np.array([[1], [0]])\n",
    "ket_1 = np.array([[0], [1]])\n",
    "\n",
    "# The state |01>\n",
    "psi = np.kron(ket_0, ket_1)\n",
    "\n",
    "# Pauli Z operator acting on the first qubit\n",
    "Z1 = np.kron(Z, I)\n",
    "\n",
    "# Expectation value <Z1>\n",
    "expectation_value = np.dot(psi.T.conj(), np.dot(Z1, psi))\n",
    "print(f\"Expectation value of Z1: {expectation_value}\")\n"
   ]
  },
  {
   "cell_type": "code",
   "execution_count": 20,
   "id": "0d5c6334-05fc-4205-8a77-915daf817b54",
   "metadata": {},
   "outputs": [
    {
     "name": "stdout",
     "output_type": "stream",
     "text": [
      "Expectation value of Pauli-X for the state |ψ⟩: 0.9999999999999998\n"
     ]
    }
   ],
   "source": [
    "import numpy as np\n",
    "\n",
    "# Define the pure state |ψ⟩ = (1/√2)(|0⟩ + |1⟩)\n",
    "psi = (1/np.sqrt(2)) * np.array([1, 1])\n",
    "\n",
    "# Define the Pauli-X operator\n",
    "pauli_x = np.array([[0, 1], [1, 0]])\n",
    "\n",
    "# Calculate the expectation value ⟨ψ|X|ψ⟩\n",
    "expectation_value = np.vdot(psi, pauli_x @ psi)\n",
    "\n",
    "# Output the result\n",
    "print(\"Expectation value of Pauli-X for the state |ψ⟩:\", expectation_value)\n"
   ]
  },
  {
   "cell_type": "code",
   "execution_count": 21,
   "id": "7112ca44-b558-43a8-ac60-0efe2dfa0af9",
   "metadata": {},
   "outputs": [
    {
     "name": "stdout",
     "output_type": "stream",
     "text": [
      "Superposition state: [0.70710678 0.70710678]\n"
     ]
    }
   ],
   "source": [
    "import numpy as np\n",
    "\n",
    "# Define the |0⟩ state\n",
    "zero_state = np.array([1, 0])\n",
    "\n",
    "# Define the Hadamard gate (H)\n",
    "hadamard_gate = (1 / np.sqrt(2)) * np.array([[1, 1], [1, -1]])\n",
    "\n",
    "# Apply the Hadamard gate to the |0⟩ state to create superposition\n",
    "superposition_state = hadamard_gate @ zero_state\n",
    "\n",
    "# Output the result\n",
    "print(\"Superposition state:\", superposition_state)\n"
   ]
  },
  {
   "cell_type": "code",
   "execution_count": 22,
   "id": "8b5939b6-d8f5-4aa3-a0b6-08249abd7753",
   "metadata": {},
   "outputs": [
    {
     "name": "stdout",
     "output_type": "stream",
     "text": [
      "State Vector |ψ⟩:\n",
      " [0.70710678 0.70710678]\n",
      "\n",
      "Density Matrix ρ = |ψ⟩⟨ψ|:\n",
      " [[0.5 0.5]\n",
      " [0.5 0.5]]\n",
      "\n",
      "Pauli X Operator X:\n",
      " [[0 1]\n",
      " [1 0]]\n",
      "\n",
      "Expectation Value ⟨X⟩: 0.9999999999999998\n"
     ]
    }
   ],
   "source": [
    "######################## Pure State with Interference and Expectation Value Calculation but mixed state does not\n",
    "#######################contain interference sentences |phi><phi|=1/2\\0><0\\ + 1/2 |1><1|\n",
    "\n",
    "# Quantum state definition\n",
    "# |ψ⟩ = (1/√2)(|0⟩ + |1⟩)\n",
    "\n",
    "# State vector representation:\n",
    "# |ψ⟩ = (1/√2) [1, 1]\n",
    "\n",
    "# Observable: Pauli X operator (bit flip operator)\n",
    "# X = [[0, 1],\n",
    "#      [1, 0]]\n",
    "\n",
    "# Steps to Calculate the Expectation Value\n",
    "# The expectation value of an observable X in quantum state |ψ⟩ is:\n",
    "# ⟨X⟩ = ⟨ψ | X | ψ⟩\n",
    "# This can also be expressed using the density matrix ρ as:\n",
    "# ⟨X⟩ = Tr(ρX)\n",
    "# where ρ = |ψ⟩⟨ψ|\n",
    "\n",
    "# Define the pure state |ψ⟩ = (1/√2)(|0⟩ + |1⟩  psi = np.array([1/np.sqrt(2), 1/np.sqrt(2)])\n",
    "\n",
    "# Density matrix ρ = |ψ⟩⟨ψ|\n",
    "rho = np.outer(psi, psi.conj())\n",
    "\n",
    "# Pauli X operator\n",
    "pauli_x = np.array([[0, 1], [1, 0]])\n",
    "\n",
    "# Calculate the expectation value ⟨X⟩ = Tr(ρX)\n",
    "expectation_value = np.trace(rho @ pauli_x)\n",
    "\n",
    "# Output the result\n",
    "print(\"State Vector |ψ⟩:\\n\", psi)\n",
    "print(\"\\nDensity Matrix ρ = |ψ⟩⟨ψ|:\\n\", rho)\n",
    "print(\"\\nPauli X Operator X:\\n\", pauli_x)\n",
    "print(\"\\nExpectation Value ⟨X⟩:\", expectation_value)\n",
    "\n",
    "# Expected Output:\n",
    "# State Vector |ψ⟩:\n",
    "#  [0.70710678 0.70710678]\n",
    "# Density Matrix ρ = |ψ⟩⟨ψ|:\n",
    "#  [[0.5 0.5]\n",
    "#   [0.5 0.5]]\n",
    "# Pauli X Operator X:\n",
    "#  [[0 1]\n",
    "#   [1 0]]\n",
    "# Expectation Value ⟨X⟩: 1.0\n"
   ]
  },
  {
   "cell_type": "code",
   "execution_count": null,
   "id": "25c6861e-a190-4d94-8e7b-c6927cedd15f",
   "metadata": {},
   "outputs": [],
   "source": [
    "#Entangelment: A pure state is entangled when it cannot be written as a tensor product of two individual qubit states. \n",
    "# becarful that pure state and mixed state can be entangelment and this question that pure state is entangelment is not\n",
    "#true always for mixed state also\n",
    "\n",
    "A famous example is the Bell state:\n",
    "\n",
    "|Φ+⟩ = 1/√2 (|00⟩ + |11⟩)\n",
    "\n",
    "If you measure one qubit, the other immediately collapses into the corresponding state. No matter how far apart the qubits are, measuring the first qubit to be |0⟩ ensures the second is also |0⟩, and measuring |1⟩ means the second must also be |1⟩.\n",
    "\n",
    "Other examples of pure entangled states include:\n",
    "\n",
    "Bell states:\n",
    "|Φ−⟩ = 1/√2 (|00⟩ − |11⟩)\n",
    "|Ψ+⟩ = 1/√2 (|01⟩ + |10⟩)\n",
    "|Ψ−⟩ = 1/√2 (|01⟩ − |10⟩)\n",
    "\n",
    "GHZ (Greenberger-Horne-Zeilinger) state for 3 qubits:\n",
    "|GHZ⟩ = 1/√2 (|000⟩ + |111⟩)\n",
    "\n",
    "Example of an Entangled Mixed State:\n",
    "\n",
    "A mixed state is entangled if it cannot be written as a probabilistic mixture of separable states. One example is the Werner state:\n",
    "\n",
    "ρW = p |Φ+⟩⟨Φ+| + (1 − p) I₄ / 4\n",
    "\n",
    "where:\n",
    "- p is a probability factor.\n",
    "- |Φ+⟩ is the entangled Bell state.\n",
    "- I₄ represents a completely mixed (random) state.\n",
    "\n",
    "If p > 1/3, the state remains entangled, meaning it cannot be separated into independent subsystems.\n",
    "\n"
   ]
  },
  {
   "cell_type": "code",
   "execution_count": 29,
   "id": "bea71a26-93b1-4385-abcc-25ad6bdb4f2c",
   "metadata": {},
   "outputs": [
    {
     "name": "stdout",
     "output_type": "stream",
     "text": [
      "Requirement already satisfied: pennylane in /opt/anaconda3/lib/python3.12/site-packages (0.40.0)\n",
      "Requirement already satisfied: numpy<2.1 in /opt/anaconda3/lib/python3.12/site-packages (from pennylane) (1.26.4)\n",
      "Requirement already satisfied: scipy in /opt/anaconda3/lib/python3.12/site-packages (from pennylane) (1.13.1)\n",
      "Requirement already satisfied: networkx in /opt/anaconda3/lib/python3.12/site-packages (from pennylane) (3.3)\n",
      "Requirement already satisfied: rustworkx>=0.14.0 in /opt/anaconda3/lib/python3.12/site-packages (from pennylane) (0.16.0)\n",
      "Requirement already satisfied: autograd in /opt/anaconda3/lib/python3.12/site-packages (from pennylane) (1.7.0)\n",
      "Requirement already satisfied: tomlkit in /opt/anaconda3/lib/python3.12/site-packages (from pennylane) (0.11.1)\n",
      "Requirement already satisfied: appdirs in /opt/anaconda3/lib/python3.12/site-packages (from pennylane) (1.4.4)\n",
      "Requirement already satisfied: autoray>=0.6.11 in /opt/anaconda3/lib/python3.12/site-packages (from pennylane) (0.7.0)\n",
      "Requirement already satisfied: cachetools in /opt/anaconda3/lib/python3.12/site-packages (from pennylane) (5.3.3)\n",
      "Requirement already satisfied: pennylane-lightning>=0.40 in /opt/anaconda3/lib/python3.12/site-packages (from pennylane) (0.40.0)\n",
      "Requirement already satisfied: requests in /opt/anaconda3/lib/python3.12/site-packages (from pennylane) (2.32.3)\n",
      "Requirement already satisfied: typing-extensions in /opt/anaconda3/lib/python3.12/site-packages (from pennylane) (4.11.0)\n",
      "Requirement already satisfied: packaging in /opt/anaconda3/lib/python3.12/site-packages (from pennylane) (24.1)\n",
      "Requirement already satisfied: diastatic-malt in /opt/anaconda3/lib/python3.12/site-packages (from pennylane) (2.15.2)\n",
      "Requirement already satisfied: scipy-openblas32>=0.3.26 in /opt/anaconda3/lib/python3.12/site-packages (from pennylane-lightning>=0.40->pennylane) (0.3.29.0.0)\n",
      "Requirement already satisfied: astunparse in /opt/anaconda3/lib/python3.12/site-packages (from diastatic-malt->pennylane) (1.6.3)\n",
      "Requirement already satisfied: gast in /opt/anaconda3/lib/python3.12/site-packages (from diastatic-malt->pennylane) (0.6.0)\n",
      "Requirement already satisfied: termcolor in /opt/anaconda3/lib/python3.12/site-packages (from diastatic-malt->pennylane) (2.5.0)\n",
      "Requirement already satisfied: charset-normalizer<4,>=2 in /opt/anaconda3/lib/python3.12/site-packages (from requests->pennylane) (3.3.2)\n",
      "Requirement already satisfied: idna<4,>=2.5 in /opt/anaconda3/lib/python3.12/site-packages (from requests->pennylane) (3.7)\n",
      "Requirement already satisfied: urllib3<3,>=1.21.1 in /opt/anaconda3/lib/python3.12/site-packages (from requests->pennylane) (2.2.3)\n",
      "Requirement already satisfied: certifi>=2017.4.17 in /opt/anaconda3/lib/python3.12/site-packages (from requests->pennylane) (2025.1.31)\n",
      "Requirement already satisfied: wheel<1.0,>=0.23.0 in /opt/anaconda3/lib/python3.12/site-packages (from astunparse->diastatic-malt->pennylane) (0.44.0)\n",
      "Requirement already satisfied: six<2.0,>=1.6.1 in /opt/anaconda3/lib/python3.12/site-packages (from astunparse->diastatic-malt->pennylane) (1.16.0)\n"
     ]
    }
   ],
   "source": [
    "!pip install pennylane"
   ]
  },
  {
   "cell_type": "code",
   "execution_count": 28,
   "id": "377c5ea0-b52a-46fa-8904-2e5f33a56551",
   "metadata": {},
   "outputs": [
    {
     "name": "stdout",
     "output_type": "stream",
     "text": [
      "State vector of the system:\n",
      "[0.70710678+0.j 0.        +0.j 0.        +0.j 0.70710678+0.j]\n",
      "\n",
      "Measurement results (sampled):\n",
      "sample(wires=[0, 1])\n"
     ]
    }
   ],
   "source": [
    "import pennylane as qml\n",
    "from pennylane import numpy as np\n",
    "\n",
    "# Define the quantum device with 2 qubits\n",
    "dev = qml.device(\"default.qubit\", wires=2)\n",
    "\n",
    "# Define the quantum circuit\n",
    "@qml.qnode(dev)\n",
    "def bell_state():\n",
    "    # Apply a Hadamard gate to the first qubit\n",
    "    qml.Hadamard(0)\n",
    "    \n",
    "    # Apply a CNOT gate with qubit 0 as control and qubit 1 as target\n",
    "    qml.CNOT(wires=[0, 1])  # Notice how we pass wires as a list\n",
    "    \n",
    "    # Return the state of the qubits\n",
    "    return qml.state()\n",
    "\n",
    "# Execute the quantum circuit\n",
    "state = bell_state()\n",
    "\n",
    "# Print the state vector of the system\n",
    "print(\"State vector of the system:\")\n",
    "print(state)\n",
    "\n",
    "# Measure the qubits in the computational basis\n",
    "measurements = qml.sample(wires=[0, 1])\n",
    "\n",
    "# Print the measurement results\n",
    "print(\"\\nMeasurement results (sampled):\")\n",
    "print(measurements)\n"
   ]
  },
  {
   "cell_type": "code",
   "execution_count": 58,
   "id": "796880dc-0063-4b62-9312-7736daa950b6",
   "metadata": {},
   "outputs": [
    {
     "name": "stdout",
     "output_type": "stream",
     "text": [
      "State vector of the system:\n",
      "[0.70710678+0.j 0.        +0.j 0.        +0.j 0.70710678+0.j]\n"
     ]
    },
    {
     "data": {
      "image/png": "[encoded data removed]",
      "text/plain": [
       "<Figure size 600x600 with 1 Axes>"
      ]
     },
     "metadata": {},
     "output_type": "display_data"
    },
    {
     "ename": "TypeError",
     "evalue": "iteration over a 0-d array",
     "output_type": "error",
     "traceback": [
      "\u001b[0;31m---------------------------------------------------------------------------\u001b[0m",
      "\u001b[0;31mTypeError\u001b[0m                                 Traceback (most recent call last)",
      "Cell \u001b[0;32mIn[58], line 45\u001b[0m\n\u001b[1;32m     42\u001b[0m \u001b[38;5;66;03m# If state is complex, convert to real part or magnitude\u001b[39;00m\n\u001b[1;32m     43\u001b[0m real_state \u001b[38;5;241m=\u001b[39m np\u001b[38;5;241m.\u001b[39mreal(state)\n\u001b[0;32m---> 45\u001b[0m measurement_results \u001b[38;5;241m=\u001b[39m [\u001b[38;5;124m'\u001b[39m\u001b[38;5;124m'\u001b[39m\u001b[38;5;241m.\u001b[39mjoin(\u001b[38;5;28mmap\u001b[39m(\u001b[38;5;28mstr\u001b[39m, [\u001b[38;5;28mint\u001b[39m(val\u001b[38;5;241m.\u001b[39mreal) \u001b[38;5;28;01mfor\u001b[39;00m val \u001b[38;5;129;01min\u001b[39;00m result])) \u001b[38;5;28;01mfor\u001b[39;00m result \u001b[38;5;129;01min\u001b[39;00m real_state]\n\u001b[1;32m     47\u001b[0m \u001b[38;5;66;03m# Check if measurement_results is correctly defined\u001b[39;00m\n\u001b[1;32m     48\u001b[0m \u001b[38;5;28mprint\u001b[39m(\u001b[38;5;124m\"\u001b[39m\u001b[38;5;130;01m\\n\u001b[39;00m\u001b[38;5;124mMeasurement results (sampled):\u001b[39m\u001b[38;5;124m\"\u001b[39m)\n",
      "\u001b[0;31mTypeError\u001b[0m: iteration over a 0-d array"
     ]
    }
   ],
   "source": [
    "import pennylane as qml\n",
    "from pennylane import numpy as np\n",
    "import matplotlib.pyplot as plt\n",
    "from collections import Counter  # To count the occurrences of each measurement result\n",
    "\n",
    "# Define the quantum device with 2 qubits\n",
    "dev = qml.device(\"default.qubit\", wires=2)\n",
    "\n",
    "# Define the quantum circuit\n",
    "@qml.qnode(dev)\n",
    "def bell_state():\n",
    "    # Apply a Hadamard gate to the first qubit\n",
    "    qml.Hadamard(0)\n",
    "    \n",
    "    # Apply a CNOT gate with qubit 0 as control and qubit 1 as target\n",
    "    qml.CNOT(wires=[0, 1])\n",
    "    \n",
    "    # Return the state of the qubits\n",
    "    return qml.state()\n",
    "\n",
    "# Execute the quantum circuit\n",
    "state = bell_state()\n",
    "\n",
    "# Print the state vector of the system\n",
    "print(\"State vector of the system:\")\n",
    "print(state)\n",
    "\n",
    "# Visualize the state vector (you can use matplotlib for better formatting)\n",
    "plt.figure(figsize=(6,6))\n",
    "plt.title(\"Quantum State Vector of the Bell State\")\n",
    "plt.bar(range(len(state)), np.abs(state)**2)  # plot the probability amplitudes\n",
    "plt.xlabel(\"State index\")\n",
    "plt.ylabel(\"Probability Amplitude\")\n",
    "plt.show()\n",
    "\n",
    "# Measure the qubits in the computational basis (multiple times)\n",
    "n_samples = 100  # Perform 100 samples to get a distribution\n",
    "measurements = bell_state()  # Call the QNode to get the measurements\n",
    "\n",
    "\n",
    "\n",
    "# If state is complex, convert to real part or magnitude\n",
    "real_state = np.real(measurments)\n",
    "\n",
    "measurement_results = [''.join(map(str, [int(val.real) for val in result])) for result in real_state]\n",
    "\n",
    "# Check if measurement_results is correctly defined\n",
    "print(\"\\nMeasurement results (sampled):\")\n",
    "print(measurement_results)\n",
    "\n",
    "\n",
    "# Count the occurrences of each measurement outcome\n",
    "counts = Counter(measurement_results)\n",
    "\n",
    "# Visualize the measurement results using a histogram\n",
    "plt.figure(figsize=(6,6))\n",
    "plt.title(\"Measurement Outcome Histogram\")\n",
    "plt.bar(counts.keys(), counts.values())  # Create a bar chart from the counts\n",
    "plt.xlabel(\"Measurement Outcome\")\n",
    "plt.ylabel(\"Count\")\n",
    "plt.show()\n"
   ]
  },
  {
   "cell_type": "code",
   "execution_count": null,
   "id": "6cb3e058-6fd8-41d3-bdf7-b35491429b3e",
   "metadata": {},
   "outputs": [],
   "source": []
  },
  {
   "cell_type": "code",
   "execution_count": null,
   "id": "88ca8916-f73c-4160-a73b-62b1eb10c9f6",
   "metadata": {},
   "outputs": [],
   "source": []
  },
  {
   "cell_type": "code",
   "execution_count": null,
   "id": "6ad7cd73-8664-4cac-b3b0-d9872135593c",
   "metadata": {},
   "outputs": [],
   "source": []
  }
 ],
 "metadata": {
  "kernelspec": {
   "display_name": "Python 3 (ipykernel)",
   "language": "python",
   "name": "python3"
  },
  "language_info": {
   "codemirror_mode": {
    "name": "ipython",
    "version": 3
   },
   "file_extension": ".py",
   "mimetype": "text/x-python",
   "name": "python",
   "nbconvert_exporter": "python",
   "pygments_lexer": "ipython3",
   "version": "3.12.2"
  }
 },
 "nbformat": 4,
 "nbformat_minor": 5
}
